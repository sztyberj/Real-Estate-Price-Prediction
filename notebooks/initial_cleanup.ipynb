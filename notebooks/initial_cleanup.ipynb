{
 "cells": [
  {
   "cell_type": "markdown",
   "id": "ac01056d-f194-40f6-8bbe-d667e37a3257",
   "metadata": {},
   "source": [
    "# initial cleanup"
   ]
  },
  {
   "cell_type": "code",
   "execution_count": 120,
   "id": "f0835d14-50d3-43bc-a0cb-704edfb960fd",
   "metadata": {},
   "outputs": [],
   "source": [
    "import pandas as pd\n",
    "import numpy as np\n",
    "sys.path.append(\"../src/initial_cleaning\")\n",
    "from initial_cleaner import *"
   ]
  },
  {
   "cell_type": "code",
   "execution_count": 121,
   "id": "75dbe23d-dbd8-4d6a-a2af-5f5cac7a7a50",
   "metadata": {},
   "outputs": [],
   "source": [
    "def clean_files():\n",
    "    input_dir = \"../data/raw/\"\n",
    "    output_dir = \"../data/cleanup/\"\n",
    "\n",
    "    os.makedirs(output_dir, exist_ok=True)\n",
    "\n",
    "    cleaner = InitialCleaner()\n",
    "\n",
    "    for filename in os.listdir(input_dir):\n",
    "        if filename.endswith(\".csv\"):\n",
    "            input_path = os.path.join(input_dir, filename)\n",
    "            output_path = os.path.join(output_dir, filename)\n",
    "\n",
    "            # Pomiń, jeśli już przetworzony\n",
    "            if os.path.exists(output_path):\n",
    "                logging.info(f\"Skipping file (already exists): {filename}\")\n",
    "                continue\n",
    "\n",
    "            logging.info(f\"Processing file: {filename}\")\n",
    "            try:\n",
    "                df = pd.read_csv(input_path, sep=\";\")\n",
    "\n",
    "                if \"OLX\" in filename.upper():\n",
    "                    df_cleaned = cleaner.olx(df)\n",
    "                elif \"OTO\" in filename.upper():\n",
    "                    df_cleaned = cleaner.oto(df)\n",
    "                else:\n",
    "                    logging.warning(f\"Skipped file (unrecognized name): {filename}\")\n",
    "                    continue\n",
    "\n",
    "                df_cleaned.to_csv(output_path, index=False)\n",
    "                logging.info(f\"Saved cleaned file to: {output_path}\")\n",
    "\n",
    "            except Exception as e:\n",
    "                logging.error(f\"Failed to process {filename}: {e}\")\n"
   ]
  },
  {
   "cell_type": "code",
   "execution_count": 122,
   "id": "1da11669-84b4-4b46-8db6-33cd41fcea41",
   "metadata": {},
   "outputs": [
    {
     "name": "stderr",
     "output_type": "stream",
     "text": [
      "2025-03-30 21:37:40,678 - INFO - Skipping file (already exists): raw_olx_23032025155859.csv\n",
      "2025-03-30 21:37:40,679 - INFO - Skipping file (already exists): raw_olx_30032025162011.csv\n",
      "2025-03-30 21:37:40,679 - INFO - Skipping file (already exists): raw_otodom_23032025211344.csv\n",
      "2025-03-30 21:37:40,679 - INFO - Skipping file (already exists): raw_otodom_30032025191652.csv\n"
     ]
    }
   ],
   "source": [
    "clean_files()"
   ]
  },
  {
   "cell_type": "code",
   "execution_count": null,
   "id": "e7f1c647-bb01-4f48-89b8-2daadfe40284",
   "metadata": {},
   "outputs": [],
   "source": []
  }
 ],
 "metadata": {
  "kernelspec": {
   "display_name": "Python 3 (ipykernel)",
   "language": "python",
   "name": "python3"
  },
  "language_info": {
   "codemirror_mode": {
    "name": "ipython",
    "version": 3
   },
   "file_extension": ".py",
   "mimetype": "text/x-python",
   "name": "python",
   "nbconvert_exporter": "python",
   "pygments_lexer": "ipython3",
   "version": "3.10.10"
  }
 },
 "nbformat": 4,
 "nbformat_minor": 5
}
